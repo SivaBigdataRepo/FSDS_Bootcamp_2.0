{
 "cells": [
  {
   "cell_type": "code",
   "execution_count": 1,
   "id": "62babea3-4b97-4619-b6cc-439a38a6b094",
   "metadata": {},
   "outputs": [
    {
     "name": "stdin",
     "output_type": "stream",
     "text": [
      "Enter the kilometers value 2\n"
     ]
    },
    {
     "name": "stdout",
     "output_type": "stream",
     "text": [
      "1.242742\n"
     ]
    }
   ],
   "source": [
    "kilometers=float(input(\"Enter the kilometers value\"))\n",
    "factor=0.621371\n",
    "miles=kilometers*factor\n",
    "print(miles)"
   ]
  },
  {
   "cell_type": "code",
   "execution_count": 2,
   "id": "c375a104-3077-41c0-a633-d595db750a30",
   "metadata": {},
   "outputs": [
    {
     "name": "stdin",
     "output_type": "stream",
     "text": [
      "Enter the temperature in Celsius 40\n"
     ]
    },
    {
     "name": "stdout",
     "output_type": "stream",
     "text": [
      "104.0\n"
     ]
    }
   ],
   "source": [
    "celsius=float(input(\"Enter the temperature in Celsius\"))\n",
    "fahrenheit=(9/5)*celsius+32\n",
    "print(fahrenheit)"
   ]
  },
  {
   "cell_type": "code",
   "execution_count": 4,
   "id": "1dfe0344-d163-459b-b8b8-779c03d31cd1",
   "metadata": {},
   "outputs": [
    {
     "name": "stdin",
     "output_type": "stream",
     "text": [
      "Enter the month:  7\n",
      "Enter the year:  2022\n"
     ]
    },
    {
     "name": "stdout",
     "output_type": "stream",
     "text": [
      "     July 2022\n",
      "Mo Tu We Th Fr Sa Su\n",
      "             1  2  3\n",
      " 4  5  6  7  8  9 10\n",
      "11 12 13 14 15 16 17\n",
      "18 19 20 21 22 23 24\n",
      "25 26 27 28 29 30 31\n",
      "\n"
     ]
    }
   ],
   "source": [
    "import calendar\n",
    "month=int(input(\"Enter the month: \"))\n",
    "year=int(input(\"Enter the year: \"))\n",
    "print(calendar.month(year,month))"
   ]
  },
  {
   "cell_type": "code",
   "execution_count": 6,
   "id": "e5b7a43e-e581-471d-a2e5-737e650d0bd5",
   "metadata": {},
   "outputs": [
    {
     "name": "stdin",
     "output_type": "stream",
     "text": [
      "Enter the value of a:  1\n",
      "Enter the value of b:  5\n",
      "Enter the value of c:  6\n"
     ]
    },
    {
     "name": "stdout",
     "output_type": "stream",
     "text": [
      "the roots are -2.0,-3.0\n"
     ]
    }
   ],
   "source": [
    "a=int(input(\"Enter the value of a: \"))\n",
    "b=int(input(\"Enter the value of b: \"))\n",
    "c=int(input(\"Enter the value of c: \"))\n",
    "root_1=(-b+((b**2)-(4*a*c))**0.5)/(2*a)\n",
    "root_2=(-b-((b**2)-(4*a*c))**0.5)/(2*a)\n",
    "print(f\"the roots are {root_1},{root_2}\")"
   ]
  },
  {
   "cell_type": "code",
   "execution_count": 7,
   "id": "6d0d49af-7eea-4506-8743-2564eb7bed9a",
   "metadata": {},
   "outputs": [
    {
     "name": "stdin",
     "output_type": "stream",
     "text": [
      "Enter the first value:  5\n",
      "Enter the second value:  6\n"
     ]
    },
    {
     "name": "stdout",
     "output_type": "stream",
     "text": [
      "the first value is 6\n",
      "the second value is 5\n"
     ]
    }
   ],
   "source": [
    "a=int(input(\"Enter the first value: \"))\n",
    "b=int(input(\"Enter the second value: \"))\n",
    "a=a+b\n",
    "b=a-b\n",
    "a=a-b\n",
    "print(f\"the first value is {a}\")\n",
    "print(f\"the second value is {b}\")"
   ]
  },
  {
   "cell_type": "code",
   "execution_count": null,
   "id": "f8e240eb-953b-4735-af5d-c3ce42dea576",
   "metadata": {},
   "outputs": [],
   "source": []
  }
 ],
 "metadata": {
  "kernelspec": {
   "display_name": "Python 3 (ipykernel)",
   "language": "python",
   "name": "python3"
  },
  "language_info": {
   "codemirror_mode": {
    "name": "ipython",
    "version": 3
   },
   "file_extension": ".py",
   "mimetype": "text/x-python",
   "name": "python",
   "nbconvert_exporter": "python",
   "pygments_lexer": "ipython3",
   "version": "3.10.6"
  }
 },
 "nbformat": 4,
 "nbformat_minor": 5
}

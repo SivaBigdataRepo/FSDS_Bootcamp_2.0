{
 "cells": [
  {
   "cell_type": "code",
   "execution_count": 2,
   "id": "5bd8ce60-9812-4f88-b977-a76e5470ed6a",
   "metadata": {},
   "outputs": [
    {
     "name": "stdout",
     "output_type": "stream",
     "text": [
      "8\n"
     ]
    }
   ],
   "source": [
    "def length(s):\n",
    "    count=0\n",
    "    for i in s:\n",
    "        count=count+1\n",
    "    print(count)\n",
    "    \n",
    "    \n",
    "x=\"sivarama\"\n",
    "length(x)"
   ]
  },
  {
   "cell_type": "code",
   "execution_count": 5,
   "id": "f2a577dc-f5fa-40cd-9d24-d5d3d1bc9cd8",
   "metadata": {},
   "outputs": [
    {
     "data": {
      "text/plain": [
       "'NOTFOUND'"
      ]
     },
     "execution_count": 5,
     "metadata": {},
     "output_type": "execute_result"
    }
   ],
   "source": [
    "def index(x,a):\n",
    "    for i in range(0,len(x)):\n",
    "        if x[i]==a:\n",
    "            return i\n",
    "    else:\n",
    "        return \"NOTFOUND\"\n",
    "list_1=[1,5,\"Siva\",True,(8+6j)]\n",
    "search_element=\"\"\n",
    "index(list_1,search_element)"
   ]
  },
  {
   "cell_type": "code",
   "execution_count": 6,
   "id": "99cc7d8d-f45c-4167-a17c-2207acbb22ef",
   "metadata": {},
   "outputs": [
    {
     "name": "stdout",
     "output_type": "stream",
     "text": [
      "172.18.0.54\n"
     ]
    }
   ],
   "source": [
    "import socket\n",
    "\n",
    "def getIP():\n",
    "    hostname=socket.gethostname()\n",
    "    Ipaddress=socket.gethostbyname(hostname)\n",
    "    print(Ipaddress)\n",
    "getIP()"
   ]
  },
  {
   "cell_type": "code",
   "execution_count": null,
   "id": "981d07a1-110e-4747-adca-c85c986b7db7",
   "metadata": {},
   "outputs": [],
   "source": [
    "import os\n",
    "def shutdown():\n",
    "    shutdown_option=input(\"Do you wish to shutdown your computer? (yes/no)? \")\n",
    "    if shutdown_option == 'no':\n",
    "        exit()\n",
    "    else:\n",
    "        os.system(\"shutdown /s /t 1\")"
   ]
  },
  {
   "cell_type": "code",
   "execution_count": null,
   "id": "a660f136-77d8-42d3-acfe-4b1b7a663fc9",
   "metadata": {},
   "outputs": [],
   "source": []
  },
  {
   "cell_type": "code",
   "execution_count": 7,
   "id": "c72923b6-08d1-4eeb-a67c-507fc7185c92",
   "metadata": {},
   "outputs": [
    {
     "name": "stdout",
     "output_type": "stream",
     "text": [
      "459.19999999999993\n"
     ]
    }
   ],
   "source": [
    "def multiplied(x):\n",
    "    a=1\n",
    "    for i in range(0,len(x)):\n",
    "        if isinstance(x[i],(int,float)):\n",
    "            a=a*x[i]\n",
    "    return a\n",
    "\n",
    "print(multiplied([3.5,6.56,4,5,\"sudh\",\"ineuron\",\"fsds bootcamp 2.0\"]))\n"
   ]
  },
  {
   "cell_type": "code",
   "execution_count": 11,
   "id": "f6882f89-78de-444e-96e3-e8eb9dcf1f68",
   "metadata": {},
   "outputs": [
    {
     "name": "stdout",
     "output_type": "stream",
     "text": [
      "b'[AUTHENTICATIONFAILED] Invalid credentials (Failure)'\n"
     ]
    },
    {
     "name": "stderr",
     "output_type": "stream",
     "text": [
      "Traceback (most recent call last):\n",
      "  File \"/tmp/ipykernel_77/881913298.py\", line 20, in read_email_from_gmail\n",
      "    mail.login(FROM_EMAIL,FROM_PWD)\n",
      "  File \"/opt/conda/lib/python3.10/imaplib.py\", line 612, in login\n",
      "    raise self.error(dat[-1])\n",
      "imaplib.IMAP4.error: b'[AUTHENTICATIONFAILED] Invalid credentials (Failure)'\n"
     ]
    }
   ],
   "source": [
    "import smtplib\n",
    "import time\n",
    "import imaplib\n",
    "import email\n",
    "import traceback \n",
    "# -------------------------------------------------\n",
    "#\n",
    "# Utility to read email from Gmail Using Python\n",
    "#\n",
    "# ------------------------------------------------\n",
    "ORG_EMAIL = \"@gmail.com\" \n",
    "FROM_EMAIL = \"kprst99\" + ORG_EMAIL \n",
    "FROM_PWD = \"Sivaram@74\" \n",
    "SMTP_SERVER = \"imap.gmail.com\" \n",
    "SMTP_PORT = 993\n",
    "\n",
    "def read_email_from_gmail():\n",
    "    try:\n",
    "        mail = imaplib.IMAP4_SSL(SMTP_SERVER)\n",
    "        mail.login(FROM_EMAIL,FROM_PWD)\n",
    "        mail.select('inbox')\n",
    "\n",
    "        data = mail.search(None, 'ALL')\n",
    "        mail_ids = data[1]\n",
    "        id_list = mail_ids[0].split()   \n",
    "        first_email_id = int(id_list[0])\n",
    "        latest_email_id = int(id_list[-1])\n",
    "\n",
    "        for i in range(latest_email_id,first_email_id, -1):\n",
    "            data = mail.fetch(str(i), '(RFC822)' )\n",
    "            for response_part in data:\n",
    "                arr = response_part[0]\n",
    "                if isinstance(arr, tuple):\n",
    "                    msg = email.message_from_string(str(arr[1],'utf-8'))\n",
    "                    email_subject = msg['subject']\n",
    "                    email_from = msg['from']\n",
    "                    print('From : ' + email_from + '\\n')\n",
    "                    print('Subject : ' + email_subject + '\\n')\n",
    "\n",
    "    except Exception as e:\n",
    "        traceback.print_exc() \n",
    "        print(str(e))\n",
    "\n",
    "read_email_from_gmail()"
   ]
  },
  {
   "cell_type": "code",
   "execution_count": 19,
   "id": "b44dbf7d-64ec-4bd8-b8c1-d05afca9b305",
   "metadata": {},
   "outputs": [
    {
     "name": "stdout",
     "output_type": "stream",
     "text": [
      "Something went wrong.... (535, b'5.7.8 Username and Password not accepted. Learn more at\\n5.7.8  https://support.google.com/mail/?p=BadCredentials r30-20020aa7989e000000b0056bf4f8d542sm1161966pfl.74 - gsmtp')\n"
     ]
    }
   ],
   "source": [
    "import smtplib \n",
    "\n",
    "def send_email(x,y,z):\n",
    "    try: \n",
    "        smtp = smtplib.SMTP('smtp.gmail.com', 587) \n",
    "        smtp.starttls()  \n",
    "        smtp.login(x,y)\n",
    "        message = \"Message_you_need_to_send\" \n",
    "        smtp.sendmail(x, z,message) \n",
    "        smtp.quit() \n",
    "        print (\"Email sent successfully!\") \n",
    "    except Exception as ex: \n",
    "        print(\"Something went wrong....\",ex)\n",
    "send_email(\"kprst99@gmail.com\",\"Sivaram@74\",\"17131A04L1@gvpce.ac.in\")"
   ]
  },
  {
   "cell_type": "code",
   "execution_count": 25,
   "id": "c3f1f7df-c08c-4039-a241-22bc4540a67a",
   "metadata": {},
   "outputs": [
    {
     "name": "stdout",
     "output_type": "stream",
     "text": [
      "Siva Rama Pavan\n"
     ]
    }
   ],
   "source": [
    "def read_from_file(x):\n",
    "    f=open(x,'r')\n",
    "    print(f.read())\n",
    "    \n",
    "    \n",
    "read_from_file(\"/home/jovyan/work/XYZ.txt\")"
   ]
  },
  {
   "cell_type": "code",
   "execution_count": null,
   "id": "fb628226-c571-4be8-8aa0-3f8daebdddb7",
   "metadata": {},
   "outputs": [],
   "source": []
  }
 ],
 "metadata": {
  "kernelspec": {
   "display_name": "Python 3 (ipykernel)",
   "language": "python",
   "name": "python3"
  },
  "language_info": {
   "codemirror_mode": {
    "name": "ipython",
    "version": 3
   },
   "file_extension": ".py",
   "mimetype": "text/x-python",
   "name": "python",
   "nbconvert_exporter": "python",
   "pygments_lexer": "ipython3",
   "version": "3.10.6"
  }
 },
 "nbformat": 4,
 "nbformat_minor": 5
}
